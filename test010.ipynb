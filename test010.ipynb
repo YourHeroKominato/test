{
 "cells": [
  {
   "cell_type": "markdown",
   "metadata": {},
   "source": [
    "## Objective: Get lists from two pandas dataframe column and find out which columns are same and not.\n",
    "\n",
    "------\n",
    "Reference: https://note.nkmk.me/python-list-common/"
   ]
  },
  {
   "cell_type": "code",
   "execution_count": 9,
   "metadata": {},
   "outputs": [
    {
     "data": {
      "text/html": [
       "<div>\n",
       "<style scoped>\n",
       "    .dataframe tbody tr th:only-of-type {\n",
       "        vertical-align: middle;\n",
       "    }\n",
       "\n",
       "    .dataframe tbody tr th {\n",
       "        vertical-align: top;\n",
       "    }\n",
       "\n",
       "    .dataframe thead th {\n",
       "        text-align: right;\n",
       "    }\n",
       "</style>\n",
       "<table border=\"1\" class=\"dataframe\">\n",
       "  <thead>\n",
       "    <tr style=\"text-align: right;\">\n",
       "      <th></th>\n",
       "      <th>FilmID</th>\n",
       "      <th>FilmName</th>\n",
       "      <th>LeadingActor</th>\n",
       "      <th>Rating</th>\n",
       "    </tr>\n",
       "  </thead>\n",
       "  <tbody>\n",
       "    <tr>\n",
       "      <th>0</th>\n",
       "      <td>1</td>\n",
       "      <td>Iron Man</td>\n",
       "      <td>Robert Downey Jr.</td>\n",
       "      <td>7.9</td>\n",
       "    </tr>\n",
       "    <tr>\n",
       "      <th>1</th>\n",
       "      <td>2</td>\n",
       "      <td>The Incredible Hulk</td>\n",
       "      <td>Edward Norton</td>\n",
       "      <td>6.6</td>\n",
       "    </tr>\n",
       "    <tr>\n",
       "      <th>2</th>\n",
       "      <td>3</td>\n",
       "      <td>Iron Man 2</td>\n",
       "      <td>Robert Downey Jr.</td>\n",
       "      <td>6.9</td>\n",
       "    </tr>\n",
       "    <tr>\n",
       "      <th>3</th>\n",
       "      <td>4</td>\n",
       "      <td>Thor</td>\n",
       "      <td>Chris Hemsworth</td>\n",
       "      <td>7.0</td>\n",
       "    </tr>\n",
       "  </tbody>\n",
       "</table>\n",
       "</div>"
      ],
      "text/plain": [
       "   FilmID             FilmName       LeadingActor  Rating\n",
       "0       1             Iron Man  Robert Downey Jr.     7.9\n",
       "1       2  The Incredible Hulk      Edward Norton     6.6\n",
       "2       3           Iron Man 2  Robert Downey Jr.     6.9\n",
       "3       4                 Thor    Chris Hemsworth     7.0"
      ]
     },
     "metadata": {},
     "output_type": "display_data"
    },
    {
     "data": {
      "text/html": [
       "<div>\n",
       "<style scoped>\n",
       "    .dataframe tbody tr th:only-of-type {\n",
       "        vertical-align: middle;\n",
       "    }\n",
       "\n",
       "    .dataframe tbody tr th {\n",
       "        vertical-align: top;\n",
       "    }\n",
       "\n",
       "    .dataframe thead th {\n",
       "        text-align: right;\n",
       "    }\n",
       "</style>\n",
       "<table border=\"1\" class=\"dataframe\">\n",
       "  <thead>\n",
       "    <tr style=\"text-align: right;\">\n",
       "      <th></th>\n",
       "      <th>FilmID</th>\n",
       "      <th>FilmName</th>\n",
       "      <th>LeadingActor</th>\n",
       "      <th>Star</th>\n",
       "    </tr>\n",
       "  </thead>\n",
       "  <tbody>\n",
       "    <tr>\n",
       "      <th>0</th>\n",
       "      <td>5</td>\n",
       "      <td>Captain America: The First Avenger</td>\n",
       "      <td>Chris Evans</td>\n",
       "      <td>6.9</td>\n",
       "    </tr>\n",
       "    <tr>\n",
       "      <th>1</th>\n",
       "      <td>6</td>\n",
       "      <td>The Avengers</td>\n",
       "      <td>Robert Downey Jr.</td>\n",
       "      <td>8.0</td>\n",
       "    </tr>\n",
       "    <tr>\n",
       "      <th>2</th>\n",
       "      <td>7</td>\n",
       "      <td>Iron Man 3</td>\n",
       "      <td>Robert Downey Jr.</td>\n",
       "      <td>7.1</td>\n",
       "    </tr>\n",
       "    <tr>\n",
       "      <th>3</th>\n",
       "      <td>8</td>\n",
       "      <td>Thor: The Dark World</td>\n",
       "      <td>Chris Hemsworth</td>\n",
       "      <td>6.8</td>\n",
       "    </tr>\n",
       "  </tbody>\n",
       "</table>\n",
       "</div>"
      ],
      "text/plain": [
       "   FilmID                            FilmName       LeadingActor  Star\n",
       "0       5  Captain America: The First Avenger        Chris Evans   6.9\n",
       "1       6                        The Avengers  Robert Downey Jr.   8.0\n",
       "2       7                          Iron Man 3  Robert Downey Jr.   7.1\n",
       "3       8                Thor: The Dark World    Chris Hemsworth   6.8"
      ]
     },
     "metadata": {},
     "output_type": "display_data"
    },
    {
     "data": {
      "text/html": [
       "<div>\n",
       "<style scoped>\n",
       "    .dataframe tbody tr th:only-of-type {\n",
       "        vertical-align: middle;\n",
       "    }\n",
       "\n",
       "    .dataframe tbody tr th {\n",
       "        vertical-align: top;\n",
       "    }\n",
       "\n",
       "    .dataframe thead th {\n",
       "        text-align: right;\n",
       "    }\n",
       "</style>\n",
       "<table border=\"1\" class=\"dataframe\">\n",
       "  <thead>\n",
       "    <tr style=\"text-align: right;\">\n",
       "      <th></th>\n",
       "      <th>FilmID</th>\n",
       "      <th>FilmName</th>\n",
       "      <th>LeadingActor</th>\n",
       "      <th>Point</th>\n",
       "    </tr>\n",
       "  </thead>\n",
       "  <tbody>\n",
       "    <tr>\n",
       "      <th>0</th>\n",
       "      <td>5</td>\n",
       "      <td>Captain America: The First Avenger</td>\n",
       "      <td>Chris Evans</td>\n",
       "      <td>6.9</td>\n",
       "    </tr>\n",
       "    <tr>\n",
       "      <th>1</th>\n",
       "      <td>6</td>\n",
       "      <td>The Avengers</td>\n",
       "      <td>Robert Downey Jr.</td>\n",
       "      <td>8.0</td>\n",
       "    </tr>\n",
       "    <tr>\n",
       "      <th>2</th>\n",
       "      <td>7</td>\n",
       "      <td>Iron Man 3</td>\n",
       "      <td>Robert Downey Jr.</td>\n",
       "      <td>7.1</td>\n",
       "    </tr>\n",
       "    <tr>\n",
       "      <th>3</th>\n",
       "      <td>8</td>\n",
       "      <td>Thor: The Dark World</td>\n",
       "      <td>Chris Hemsworth</td>\n",
       "      <td>6.8</td>\n",
       "    </tr>\n",
       "  </tbody>\n",
       "</table>\n",
       "</div>"
      ],
      "text/plain": [
       "   FilmID                            FilmName       LeadingActor  Point\n",
       "0       5  Captain America: The First Avenger        Chris Evans    6.9\n",
       "1       6                        The Avengers  Robert Downey Jr.    8.0\n",
       "2       7                          Iron Man 3  Robert Downey Jr.    7.1\n",
       "3       8                Thor: The Dark World    Chris Hemsworth    6.8"
      ]
     },
     "metadata": {},
     "output_type": "display_data"
    }
   ],
   "source": [
    "# Import library\n",
    "import pandas as pd\n",
    "from IPython.display import display\n",
    "\n",
    "# Create a dictionary of list\n",
    "dictionary_of_lists = {\n",
    "    \"FilmID\": [1, 2, 3, 4],\n",
    "    \"FilmName\": [\"Iron Man\", \"The Incredible Hulk\", \"Iron Man 2\",\"Thor\"],\n",
    "    \"LeadingActor\": [\"Robert Downey Jr.\", \"Edward Norton\", \"Robert Downey Jr.\", \"Chris Hemsworth\"], \n",
    "    \"Rating\": [7.9, 6.6, 6.9, 7]}\n",
    "# Create the DataFrame\n",
    "df_a = pd.DataFrame(dictionary_of_lists)\n",
    "\n",
    "# Create a dictionary of list with different column name\n",
    "dictionary_of_lists = {\n",
    "    \"FilmID\": [5, 6, 7, 8],\n",
    "    \"FilmName\": [\"Captain America: The First Avenger\", \"The Avengers\", \"Iron Man 3\",\"Thor: The Dark World\"],\n",
    "    \"LeadingActor\": [\"Chris Evans\", \"Robert Downey Jr.\", \"Robert Downey Jr.\", \"Chris Hemsworth\"],  \n",
    "    \"Star\": [6.9, 8, 7.1, 6.8]}\n",
    "\n",
    "df_b = pd.DataFrame(dictionary_of_lists)\n",
    "\n",
    "# Create a dictionary of list with different column name\n",
    "dictionary_of_lists = {\n",
    "    \"FilmID\": [9, 10, 11, 12],\n",
    "    \"FilmName\": [\"Captain America: The Winter Soldier\", \"Guardians of the Galaxy\", \"Avengers: Age of Ultron\",\"Ant-Man\"],\n",
    "    \"LeadingActor\": [\"Chris Evans\", \"Chris Pratt\", \"Robert Downey Jr.\", \"Paul Rudd\"],  \n",
    "    \"Point\": [7.8, 8, 7.3, 7.3]}\n",
    "\n",
    "df_c = pd.DataFrame(dictionary_of_lists)\n",
    "\n",
    "display(df_a)\n",
    "display(df_b)\n",
    "display(df_c)"
   ]
  },
  {
   "cell_type": "code",
   "execution_count": 11,
   "metadata": {},
   "outputs": [
    {
     "name": "stdout",
     "output_type": "stream",
     "text": [
      "['FilmID', 'FilmName', 'LeadingActor', 'Rating']\n",
      "['FilmID', 'FilmName', 'LeadingActor', 'Star']\n",
      "['FilmID', 'FilmName', 'LeadingActor', 'Point']\n"
     ]
    }
   ],
   "source": [
    "# either \"DataFrame.columns.values.tolist()\" or \"DataFrame.columns.tolist()\" works \n",
    "# but the former is faster\n",
    "df_a_col = df_a.columns.values.tolist()\n",
    "df_b_col = df_b.columns.values.tolist()\n",
    "df_c_col = df_c.columns.values.tolist()\n",
    "print(df_a_col)\n",
    "print(df_b_col)\n",
    "print(df_c_col)"
   ]
  },
  {
   "cell_type": "markdown",
   "metadata": {},
   "source": [
    "Set class returns unique values from iterable\n",
    "Set and \"^\" returns a non-duplicate value among two list"
   ]
  },
  {
   "cell_type": "code",
   "execution_count": 15,
   "metadata": {},
   "outputs": [
    {
     "name": "stdout",
     "output_type": "stream",
     "text": [
      "{'Rating', 'FilmName', 'FilmID', 'LeadingActor'}\n",
      "{'Star', 'FilmName', 'FilmID', 'LeadingActor'}\n",
      "{'FilmName', 'Point', 'FilmID', 'LeadingActor'}\n"
     ]
    }
   ],
   "source": [
    "print(set(df_a_col))\n",
    "print(set(df_b_col))\n",
    "print(set(df_c_col))"
   ]
  },
  {
   "cell_type": "code",
   "execution_count": 16,
   "metadata": {},
   "outputs": [
    {
     "name": "stdout",
     "output_type": "stream",
     "text": [
      "{'Star', 'Rating'}\n"
     ]
    }
   ],
   "source": [
    "# retuns non-duplicate value from list\n",
    "diff_of_ab = set(df_a_col) ^ set(df_a_col)\n",
    "print(diff)"
   ]
  },
  {
   "cell_type": "markdown",
   "metadata": {},
   "source": [
    "If you want to returns unique value from mutiple list"
   ]
  },
  {
   "cell_type": "code",
   "execution_count": 22,
   "metadata": {},
   "outputs": [
    {
     "name": "stdout",
     "output_type": "stream",
     "text": [
      "['FilmID', 'FilmName', 'LeadingActor', 'Rating', 'FilmID', 'FilmName', 'LeadingActor', 'Star', 'FilmID', 'FilmName', 'LeadingActor', 'Point']\n",
      "{'Star', 'FilmName', 'FilmID', 'Point', 'LeadingActor', 'Rating'}\n",
      "['Star', 'Point', 'Rating']\n"
     ]
    }
   ],
   "source": [
    "#other way to do\n",
    "all_column_of_abc = df_a_col + df_b_col + df_c_col\n",
    "print(all_column_of_abc)\n",
    "\n",
    "print(set(all_column_of_abc))\n",
    "\n",
    "diff_of_abc = [x for x in set(all_column_of_abc) if all_column_of_abc.count(x) == 1]\n",
    "print(diff_of_abc)"
   ]
  },
  {
   "cell_type": "markdown",
   "metadata": {},
   "source": [
    "### It does work even when you want to investigate what columns were added to previous dataframe.\n",
    "\n",
    "------"
   ]
  },
  {
   "cell_type": "code",
   "execution_count": 29,
   "metadata": {},
   "outputs": [
    {
     "data": {
      "text/html": [
       "<div>\n",
       "<style scoped>\n",
       "    .dataframe tbody tr th:only-of-type {\n",
       "        vertical-align: middle;\n",
       "    }\n",
       "\n",
       "    .dataframe tbody tr th {\n",
       "        vertical-align: top;\n",
       "    }\n",
       "\n",
       "    .dataframe thead th {\n",
       "        text-align: right;\n",
       "    }\n",
       "</style>\n",
       "<table border=\"1\" class=\"dataframe\">\n",
       "  <thead>\n",
       "    <tr style=\"text-align: right;\">\n",
       "      <th></th>\n",
       "      <th>FilmID</th>\n",
       "      <th>FilmName</th>\n",
       "      <th>LeadingActor</th>\n",
       "      <th>Rating</th>\n",
       "    </tr>\n",
       "  </thead>\n",
       "  <tbody>\n",
       "    <tr>\n",
       "      <th>0</th>\n",
       "      <td>1</td>\n",
       "      <td>Iron Man</td>\n",
       "      <td>Robert Downey Jr.</td>\n",
       "      <td>7.9</td>\n",
       "    </tr>\n",
       "    <tr>\n",
       "      <th>1</th>\n",
       "      <td>2</td>\n",
       "      <td>The Incredible Hulk</td>\n",
       "      <td>Edward Norton</td>\n",
       "      <td>6.6</td>\n",
       "    </tr>\n",
       "    <tr>\n",
       "      <th>2</th>\n",
       "      <td>3</td>\n",
       "      <td>Iron Man 2</td>\n",
       "      <td>Robert Downey Jr.</td>\n",
       "      <td>6.9</td>\n",
       "    </tr>\n",
       "    <tr>\n",
       "      <th>3</th>\n",
       "      <td>4</td>\n",
       "      <td>Thor</td>\n",
       "      <td>Chris Hemsworth</td>\n",
       "      <td>7.0</td>\n",
       "    </tr>\n",
       "  </tbody>\n",
       "</table>\n",
       "</div>"
      ],
      "text/plain": [
       "   FilmID             FilmName       LeadingActor  Rating\n",
       "0       1             Iron Man  Robert Downey Jr.     7.9\n",
       "1       2  The Incredible Hulk      Edward Norton     6.6\n",
       "2       3           Iron Man 2  Robert Downey Jr.     6.9\n",
       "3       4                 Thor    Chris Hemsworth     7.0"
      ]
     },
     "metadata": {},
     "output_type": "display_data"
    },
    {
     "data": {
      "text/html": [
       "<div>\n",
       "<style scoped>\n",
       "    .dataframe tbody tr th:only-of-type {\n",
       "        vertical-align: middle;\n",
       "    }\n",
       "\n",
       "    .dataframe tbody tr th {\n",
       "        vertical-align: top;\n",
       "    }\n",
       "\n",
       "    .dataframe thead th {\n",
       "        text-align: right;\n",
       "    }\n",
       "</style>\n",
       "<table border=\"1\" class=\"dataframe\">\n",
       "  <thead>\n",
       "    <tr style=\"text-align: right;\">\n",
       "      <th></th>\n",
       "      <th>FilmID</th>\n",
       "      <th>FilmName</th>\n",
       "      <th>LeadingActor</th>\n",
       "    </tr>\n",
       "  </thead>\n",
       "  <tbody>\n",
       "    <tr>\n",
       "      <th>0</th>\n",
       "      <td>5</td>\n",
       "      <td>Captain America: The First Avenger</td>\n",
       "      <td>Chris Evans</td>\n",
       "    </tr>\n",
       "    <tr>\n",
       "      <th>1</th>\n",
       "      <td>6</td>\n",
       "      <td>The Avengers</td>\n",
       "      <td>Robert Downey Jr.</td>\n",
       "    </tr>\n",
       "    <tr>\n",
       "      <th>2</th>\n",
       "      <td>7</td>\n",
       "      <td>Iron Man 3</td>\n",
       "      <td>Robert Downey Jr.</td>\n",
       "    </tr>\n",
       "    <tr>\n",
       "      <th>3</th>\n",
       "      <td>8</td>\n",
       "      <td>Thor: The Dark World</td>\n",
       "      <td>Chris Hemsworth</td>\n",
       "    </tr>\n",
       "  </tbody>\n",
       "</table>\n",
       "</div>"
      ],
      "text/plain": [
       "   FilmID                            FilmName       LeadingActor\n",
       "0       5  Captain America: The First Avenger        Chris Evans\n",
       "1       6                        The Avengers  Robert Downey Jr.\n",
       "2       7                          Iron Man 3  Robert Downey Jr.\n",
       "3       8                Thor: The Dark World    Chris Hemsworth"
      ]
     },
     "metadata": {},
     "output_type": "display_data"
    }
   ],
   "source": [
    "display(df_a)\n",
    "\n",
    "df_b_new = df_b.drop(columns=\"Star\")\n",
    "display(df_b_new)"
   ]
  },
  {
   "cell_type": "code",
   "execution_count": 30,
   "metadata": {},
   "outputs": [
    {
     "name": "stdout",
     "output_type": "stream",
     "text": [
      "['FilmID', 'FilmName', 'LeadingActor', 'Rating']\n",
      "['FilmID', 'FilmName', 'LeadingActor']\n"
     ]
    }
   ],
   "source": [
    "# either \"DataFrame.columns.values.tolist()\" or \"DataFrame.columns.tolist()\" works \n",
    "# but the former is faster\n",
    "df_a_col = df_a.columns.values.tolist()\n",
    "df_b_new_col = df_b_new.columns.values.tolist()\n",
    "print(df_a_col)\n",
    "print(df_b_new_col)"
   ]
  },
  {
   "cell_type": "code",
   "execution_count": 31,
   "metadata": {},
   "outputs": [
    {
     "name": "stdout",
     "output_type": "stream",
     "text": [
      "{'Rating'}\n"
     ]
    }
   ],
   "source": [
    "diff_of_ab = set(df_a_col) ^ set(df_b_new_col)\n",
    "print(diff_of_ab)"
   ]
  },
  {
   "cell_type": "markdown",
   "metadata": {},
   "source": [
    "### You can also find out common column name\n",
    "\n",
    "------"
   ]
  },
  {
   "cell_type": "code",
   "execution_count": 32,
   "metadata": {},
   "outputs": [
    {
     "data": {
      "text/html": [
       "<div>\n",
       "<style scoped>\n",
       "    .dataframe tbody tr th:only-of-type {\n",
       "        vertical-align: middle;\n",
       "    }\n",
       "\n",
       "    .dataframe tbody tr th {\n",
       "        vertical-align: top;\n",
       "    }\n",
       "\n",
       "    .dataframe thead th {\n",
       "        text-align: right;\n",
       "    }\n",
       "</style>\n",
       "<table border=\"1\" class=\"dataframe\">\n",
       "  <thead>\n",
       "    <tr style=\"text-align: right;\">\n",
       "      <th></th>\n",
       "      <th>FilmID</th>\n",
       "      <th>FilmName</th>\n",
       "      <th>LeadingActor</th>\n",
       "      <th>Rating</th>\n",
       "    </tr>\n",
       "  </thead>\n",
       "  <tbody>\n",
       "    <tr>\n",
       "      <th>0</th>\n",
       "      <td>1</td>\n",
       "      <td>Iron Man</td>\n",
       "      <td>Robert Downey Jr.</td>\n",
       "      <td>7.9</td>\n",
       "    </tr>\n",
       "    <tr>\n",
       "      <th>1</th>\n",
       "      <td>2</td>\n",
       "      <td>The Incredible Hulk</td>\n",
       "      <td>Edward Norton</td>\n",
       "      <td>6.6</td>\n",
       "    </tr>\n",
       "    <tr>\n",
       "      <th>2</th>\n",
       "      <td>3</td>\n",
       "      <td>Iron Man 2</td>\n",
       "      <td>Robert Downey Jr.</td>\n",
       "      <td>6.9</td>\n",
       "    </tr>\n",
       "    <tr>\n",
       "      <th>3</th>\n",
       "      <td>4</td>\n",
       "      <td>Thor</td>\n",
       "      <td>Chris Hemsworth</td>\n",
       "      <td>7.0</td>\n",
       "    </tr>\n",
       "  </tbody>\n",
       "</table>\n",
       "</div>"
      ],
      "text/plain": [
       "   FilmID             FilmName       LeadingActor  Rating\n",
       "0       1             Iron Man  Robert Downey Jr.     7.9\n",
       "1       2  The Incredible Hulk      Edward Norton     6.6\n",
       "2       3           Iron Man 2  Robert Downey Jr.     6.9\n",
       "3       4                 Thor    Chris Hemsworth     7.0"
      ]
     },
     "metadata": {},
     "output_type": "display_data"
    },
    {
     "data": {
      "text/html": [
       "<div>\n",
       "<style scoped>\n",
       "    .dataframe tbody tr th:only-of-type {\n",
       "        vertical-align: middle;\n",
       "    }\n",
       "\n",
       "    .dataframe tbody tr th {\n",
       "        vertical-align: top;\n",
       "    }\n",
       "\n",
       "    .dataframe thead th {\n",
       "        text-align: right;\n",
       "    }\n",
       "</style>\n",
       "<table border=\"1\" class=\"dataframe\">\n",
       "  <thead>\n",
       "    <tr style=\"text-align: right;\">\n",
       "      <th></th>\n",
       "      <th>FilmID</th>\n",
       "      <th>FilmName</th>\n",
       "      <th>LeadingActor</th>\n",
       "      <th>Star</th>\n",
       "    </tr>\n",
       "  </thead>\n",
       "  <tbody>\n",
       "    <tr>\n",
       "      <th>0</th>\n",
       "      <td>5</td>\n",
       "      <td>Captain America: The First Avenger</td>\n",
       "      <td>Chris Evans</td>\n",
       "      <td>6.9</td>\n",
       "    </tr>\n",
       "    <tr>\n",
       "      <th>1</th>\n",
       "      <td>6</td>\n",
       "      <td>The Avengers</td>\n",
       "      <td>Robert Downey Jr.</td>\n",
       "      <td>8.0</td>\n",
       "    </tr>\n",
       "    <tr>\n",
       "      <th>2</th>\n",
       "      <td>7</td>\n",
       "      <td>Iron Man 3</td>\n",
       "      <td>Robert Downey Jr.</td>\n",
       "      <td>7.1</td>\n",
       "    </tr>\n",
       "    <tr>\n",
       "      <th>3</th>\n",
       "      <td>8</td>\n",
       "      <td>Thor: The Dark World</td>\n",
       "      <td>Chris Hemsworth</td>\n",
       "      <td>6.8</td>\n",
       "    </tr>\n",
       "  </tbody>\n",
       "</table>\n",
       "</div>"
      ],
      "text/plain": [
       "   FilmID                            FilmName       LeadingActor  Star\n",
       "0       5  Captain America: The First Avenger        Chris Evans   6.9\n",
       "1       6                        The Avengers  Robert Downey Jr.   8.0\n",
       "2       7                          Iron Man 3  Robert Downey Jr.   7.1\n",
       "3       8                Thor: The Dark World    Chris Hemsworth   6.8"
      ]
     },
     "metadata": {},
     "output_type": "display_data"
    }
   ],
   "source": [
    "display(df_a)\n",
    "display(df_b)"
   ]
  },
  {
   "cell_type": "code",
   "execution_count": 34,
   "metadata": {},
   "outputs": [
    {
     "data": {
      "text/plain": [
       "{'FilmID', 'FilmName', 'LeadingActor'}"
      ]
     },
     "metadata": {},
     "output_type": "display_data"
    }
   ],
   "source": [
    "#returns common column value from two list\n",
    "df_a_col = df_a.columns.values.tolist()\n",
    "df_b_col = df_b.columns.values.tolist()\n",
    "common = set(df_a_col) & set(df_b_col)\n",
    "display(common)"
   ]
  },
  {
   "cell_type": "markdown",
   "metadata": {},
   "source": [
    "### You can compare it by looking at columns name side by side\n",
    "\n",
    "------\n",
    "Reference:https://note.nkmk.me/python-pandas-dataframe-series-conversion/"
   ]
  },
  {
   "cell_type": "code",
   "execution_count": 35,
   "metadata": {},
   "outputs": [
    {
     "data": {
      "text/html": [
       "<div>\n",
       "<style scoped>\n",
       "    .dataframe tbody tr th:only-of-type {\n",
       "        vertical-align: middle;\n",
       "    }\n",
       "\n",
       "    .dataframe tbody tr th {\n",
       "        vertical-align: top;\n",
       "    }\n",
       "\n",
       "    .dataframe thead th {\n",
       "        text-align: right;\n",
       "    }\n",
       "</style>\n",
       "<table border=\"1\" class=\"dataframe\">\n",
       "  <thead>\n",
       "    <tr style=\"text-align: right;\">\n",
       "      <th></th>\n",
       "      <th>FilmID</th>\n",
       "      <th>FilmName</th>\n",
       "      <th>LeadingActor</th>\n",
       "      <th>Rating</th>\n",
       "    </tr>\n",
       "  </thead>\n",
       "  <tbody>\n",
       "    <tr>\n",
       "      <th>0</th>\n",
       "      <td>1</td>\n",
       "      <td>Iron Man</td>\n",
       "      <td>Robert Downey Jr.</td>\n",
       "      <td>7.9</td>\n",
       "    </tr>\n",
       "    <tr>\n",
       "      <th>1</th>\n",
       "      <td>2</td>\n",
       "      <td>The Incredible Hulk</td>\n",
       "      <td>Edward Norton</td>\n",
       "      <td>6.6</td>\n",
       "    </tr>\n",
       "    <tr>\n",
       "      <th>2</th>\n",
       "      <td>3</td>\n",
       "      <td>Iron Man 2</td>\n",
       "      <td>Robert Downey Jr.</td>\n",
       "      <td>6.9</td>\n",
       "    </tr>\n",
       "    <tr>\n",
       "      <th>3</th>\n",
       "      <td>4</td>\n",
       "      <td>Thor</td>\n",
       "      <td>Chris Hemsworth</td>\n",
       "      <td>7.0</td>\n",
       "    </tr>\n",
       "  </tbody>\n",
       "</table>\n",
       "</div>"
      ],
      "text/plain": [
       "   FilmID             FilmName       LeadingActor  Rating\n",
       "0       1             Iron Man  Robert Downey Jr.     7.9\n",
       "1       2  The Incredible Hulk      Edward Norton     6.6\n",
       "2       3           Iron Man 2  Robert Downey Jr.     6.9\n",
       "3       4                 Thor    Chris Hemsworth     7.0"
      ]
     },
     "metadata": {},
     "output_type": "display_data"
    },
    {
     "data": {
      "text/html": [
       "<div>\n",
       "<style scoped>\n",
       "    .dataframe tbody tr th:only-of-type {\n",
       "        vertical-align: middle;\n",
       "    }\n",
       "\n",
       "    .dataframe tbody tr th {\n",
       "        vertical-align: top;\n",
       "    }\n",
       "\n",
       "    .dataframe thead th {\n",
       "        text-align: right;\n",
       "    }\n",
       "</style>\n",
       "<table border=\"1\" class=\"dataframe\">\n",
       "  <thead>\n",
       "    <tr style=\"text-align: right;\">\n",
       "      <th></th>\n",
       "      <th>FilmID</th>\n",
       "      <th>FilmName</th>\n",
       "      <th>LeadingActor</th>\n",
       "      <th>Star</th>\n",
       "    </tr>\n",
       "  </thead>\n",
       "  <tbody>\n",
       "    <tr>\n",
       "      <th>0</th>\n",
       "      <td>5</td>\n",
       "      <td>Captain America: The First Avenger</td>\n",
       "      <td>Chris Evans</td>\n",
       "      <td>6.9</td>\n",
       "    </tr>\n",
       "    <tr>\n",
       "      <th>1</th>\n",
       "      <td>6</td>\n",
       "      <td>The Avengers</td>\n",
       "      <td>Robert Downey Jr.</td>\n",
       "      <td>8.0</td>\n",
       "    </tr>\n",
       "    <tr>\n",
       "      <th>2</th>\n",
       "      <td>7</td>\n",
       "      <td>Iron Man 3</td>\n",
       "      <td>Robert Downey Jr.</td>\n",
       "      <td>7.1</td>\n",
       "    </tr>\n",
       "    <tr>\n",
       "      <th>3</th>\n",
       "      <td>8</td>\n",
       "      <td>Thor: The Dark World</td>\n",
       "      <td>Chris Hemsworth</td>\n",
       "      <td>6.8</td>\n",
       "    </tr>\n",
       "  </tbody>\n",
       "</table>\n",
       "</div>"
      ],
      "text/plain": [
       "   FilmID                            FilmName       LeadingActor  Star\n",
       "0       5  Captain America: The First Avenger        Chris Evans   6.9\n",
       "1       6                        The Avengers  Robert Downey Jr.   8.0\n",
       "2       7                          Iron Man 3  Robert Downey Jr.   7.1\n",
       "3       8                Thor: The Dark World    Chris Hemsworth   6.8"
      ]
     },
     "metadata": {},
     "output_type": "display_data"
    }
   ],
   "source": [
    "display(df_a)\n",
    "display(df_b)"
   ]
  },
  {
   "cell_type": "code",
   "execution_count": 36,
   "metadata": {},
   "outputs": [
    {
     "data": {
      "text/html": [
       "<div>\n",
       "<style scoped>\n",
       "    .dataframe tbody tr th:only-of-type {\n",
       "        vertical-align: middle;\n",
       "    }\n",
       "\n",
       "    .dataframe tbody tr th {\n",
       "        vertical-align: top;\n",
       "    }\n",
       "\n",
       "    .dataframe thead th {\n",
       "        text-align: right;\n",
       "    }\n",
       "</style>\n",
       "<table border=\"1\" class=\"dataframe\">\n",
       "  <thead>\n",
       "    <tr style=\"text-align: right;\">\n",
       "      <th></th>\n",
       "      <th>X</th>\n",
       "      <th>Y</th>\n",
       "    </tr>\n",
       "  </thead>\n",
       "  <tbody>\n",
       "    <tr>\n",
       "      <th>0</th>\n",
       "      <td>FilmID</td>\n",
       "      <td>FilmID</td>\n",
       "    </tr>\n",
       "    <tr>\n",
       "      <th>1</th>\n",
       "      <td>FilmName</td>\n",
       "      <td>FilmName</td>\n",
       "    </tr>\n",
       "    <tr>\n",
       "      <th>2</th>\n",
       "      <td>LeadingActor</td>\n",
       "      <td>LeadingActor</td>\n",
       "    </tr>\n",
       "    <tr>\n",
       "      <th>3</th>\n",
       "      <td>Rating</td>\n",
       "      <td>Star</td>\n",
       "    </tr>\n",
       "  </tbody>\n",
       "</table>\n",
       "</div>"
      ],
      "text/plain": [
       "              X             Y\n",
       "0        FilmID        FilmID\n",
       "1      FilmName      FilmName\n",
       "2  LeadingActor  LeadingActor\n",
       "3        Rating          Star"
      ]
     },
     "metadata": {},
     "output_type": "display_data"
    }
   ],
   "source": [
    "#shows column name comparison\n",
    "df_a_col = df_a.columns.values.tolist()\n",
    "df_b_col = df_b.columns.values.tolist()\n",
    "s1 = pd.Series(df_a_col, name='X')\n",
    "s2 = pd.Series(df_b_col, name='Y')\n",
    "compare_col = pd.concat([s1, s2], axis=1)\n",
    "display(compare_col)"
   ]
  }
 ],
 "metadata": {
  "kernelspec": {
   "display_name": "Python 3.9.13 64-bit (windows store)",
   "language": "python",
   "name": "python3"
  },
  "language_info": {
   "codemirror_mode": {
    "name": "ipython",
    "version": 3
   },
   "file_extension": ".py",
   "mimetype": "text/x-python",
   "name": "python",
   "nbconvert_exporter": "python",
   "pygments_lexer": "ipython3",
   "version": "3.9.13"
  },
  "orig_nbformat": 4,
  "vscode": {
   "interpreter": {
    "hash": "6a19634eb33c5479826ec490c10857293e2fcbc0f1317d2520de4bd5a8793109"
   }
  }
 },
 "nbformat": 4,
 "nbformat_minor": 2
}
