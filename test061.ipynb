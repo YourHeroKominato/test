{
 "cells": [
  {
   "cell_type": "code",
   "execution_count": 24,
   "metadata": {},
   "outputs": [
    {
     "data": {
      "text/html": [
       "<div>\n",
       "<style scoped>\n",
       "    .dataframe tbody tr th:only-of-type {\n",
       "        vertical-align: middle;\n",
       "    }\n",
       "\n",
       "    .dataframe tbody tr th {\n",
       "        vertical-align: top;\n",
       "    }\n",
       "\n",
       "    .dataframe thead th {\n",
       "        text-align: right;\n",
       "    }\n",
       "</style>\n",
       "<table border=\"1\" class=\"dataframe\">\n",
       "  <thead>\n",
       "    <tr style=\"text-align: right;\">\n",
       "      <th></th>\n",
       "      <th>Id</th>\n",
       "      <th>Title</th>\n",
       "      <th>Release Date</th>\n",
       "      <th>Memo</th>\n",
       "    </tr>\n",
       "  </thead>\n",
       "  <tbody>\n",
       "    <tr>\n",
       "      <th>0</th>\n",
       "      <td>1</td>\n",
       "      <td>Iron Man</td>\n",
       "      <td>39718</td>\n",
       "      <td>Serial value(Not formatted)</td>\n",
       "    </tr>\n",
       "    <tr>\n",
       "      <th>1</th>\n",
       "      <td>2</td>\n",
       "      <td>The Incredible Hulk</td>\n",
       "      <td>June 8,2008</td>\n",
       "      <td>String value</td>\n",
       "    </tr>\n",
       "    <tr>\n",
       "      <th>2</th>\n",
       "      <td>3</td>\n",
       "      <td>Iron Man 2</td>\n",
       "      <td>2010-05-26 00:00:00</td>\n",
       "      <td>Short Date format</td>\n",
       "    </tr>\n",
       "    <tr>\n",
       "      <th>3</th>\n",
       "      <td>4</td>\n",
       "      <td>Thor</td>\n",
       "      <td>40699</td>\n",
       "      <td>Custom format \"m\"月\"d\"日\"\"</td>\n",
       "    </tr>\n",
       "    <tr>\n",
       "      <th>4</th>\n",
       "      <td>5</td>\n",
       "      <td>Captain America: The First Avenger</td>\n",
       "      <td>2011-07-22 00:00:00</td>\n",
       "      <td>Custom format \"d-mmm-yy\"</td>\n",
       "    </tr>\n",
       "  </tbody>\n",
       "</table>\n",
       "</div>"
      ],
      "text/plain": [
       "   Id                               Title         Release Date  \\\n",
       "0   1                            Iron Man                39718   \n",
       "1   2                 The Incredible Hulk          June 8,2008   \n",
       "2   3                          Iron Man 2  2010-05-26 00:00:00   \n",
       "3   4                                Thor                40699   \n",
       "4   5  Captain America: The First Avenger  2011-07-22 00:00:00   \n",
       "\n",
       "                          Memo  \n",
       "0  Serial value(Not formatted)  \n",
       "1                 String value  \n",
       "2            Short Date format  \n",
       "3     Custom format \"m\"月\"d\"日\"\"  \n",
       "4     Custom format \"d-mmm-yy\"  "
      ]
     },
     "execution_count": 24,
     "metadata": {},
     "output_type": "execute_result"
    }
   ],
   "source": [
    "import pandas as pd\n",
    "\n",
    "#read excel\n",
    "df_a = pd.read_excel('test061_df.xlsx', sheet_name='Sheet1')\n",
    "df_a"
   ]
  },
  {
   "cell_type": "markdown",
   "metadata": {},
   "source": [
    "In this notebook, I will demonstrate how to format date value of excel file.  "
   ]
  },
  {
   "cell_type": "markdown",
   "metadata": {},
   "source": [
    "### Turn serial value (a five digit number) to Python Datetime"
   ]
  },
  {
   "cell_type": "code",
   "execution_count": 25,
   "metadata": {},
   "outputs": [
    {
     "data": {
      "text/plain": [
       "39718"
      ]
     },
     "execution_count": 25,
     "metadata": {},
     "output_type": "execute_result"
    }
   ],
   "source": [
    "serial_value = int(df_a.iloc[0,2])\n",
    "serial_value"
   ]
  },
  {
   "cell_type": "markdown",
   "metadata": {},
   "source": [
    "Reference: https://www.geeksforgeeks.org/python-convert-excel-serial-date-to-datetime/"
   ]
  },
  {
   "cell_type": "code",
   "execution_count": 26,
   "metadata": {},
   "outputs": [],
   "source": [
    "import xlrd"
   ]
  },
  {
   "cell_type": "code",
   "execution_count": 27,
   "metadata": {},
   "outputs": [
    {
     "data": {
      "text/plain": [
       "datetime.datetime(2008, 9, 27, 0, 0)"
      ]
     },
     "execution_count": 27,
     "metadata": {},
     "output_type": "execute_result"
    }
   ],
   "source": [
    "python_date = xlrd.xldate_as_datetime(serial_value, 0)\n",
    "python_date"
   ]
  },
  {
   "cell_type": "code",
   "execution_count": 28,
   "metadata": {},
   "outputs": [
    {
     "ename": "ValueError",
     "evalue": "'0                  39718\n1            June 8,2008\n2    2010-05-26 00:00:00\n3                  40699\n4    2011-07-22 00:00:00\nName: Release Date, dtype: object' is not compatible with origin='1899-12-30'; it must be numeric with a unit specified",
     "output_type": "error",
     "traceback": [
      "\u001b[1;31m---------------------------------------------------------------------------\u001b[0m",
      "\u001b[1;31mValueError\u001b[0m                                Traceback (most recent call last)",
      "\u001b[1;32mc:\\Users\\komin\\OneDrive\\test\\test061.ipynb Cell 8'\u001b[0m in \u001b[0;36m<module>\u001b[1;34m\u001b[0m\n\u001b[1;32m----> <a href='vscode-notebook-cell:/c%3A/Users/komin/OneDrive/test/test061.ipynb#ch0000011?line=0'>1</a>\u001b[0m pd\u001b[39m.\u001b[39;49mto_datetime(df_a[\u001b[39m'\u001b[39;49m\u001b[39mRelease Date\u001b[39;49m\u001b[39m'\u001b[39;49m], unit\u001b[39m=\u001b[39;49m\u001b[39m'\u001b[39;49m\u001b[39md\u001b[39;49m\u001b[39m'\u001b[39;49m, origin\u001b[39m=\u001b[39;49m\u001b[39m'\u001b[39;49m\u001b[39m1899-12-30\u001b[39;49m\u001b[39m'\u001b[39;49m)\n",
      "File \u001b[1;32m~\\AppData\\Local\\Packages\\PythonSoftwareFoundation.Python.3.9_qbz5n2kfra8p0\\LocalCache\\local-packages\\Python39\\site-packages\\pandas\\core\\tools\\datetimes.py:1023\u001b[0m, in \u001b[0;36mto_datetime\u001b[1;34m(arg, errors, dayfirst, yearfirst, utc, format, exact, unit, infer_datetime_format, origin, cache)\u001b[0m\n\u001b[0;32m   1020\u001b[0m     \u001b[39mreturn\u001b[39;00m \u001b[39mNone\u001b[39;00m\n\u001b[0;32m   1022\u001b[0m \u001b[39mif\u001b[39;00m origin \u001b[39m!=\u001b[39m \u001b[39m\"\u001b[39m\u001b[39munix\u001b[39m\u001b[39m\"\u001b[39m:\n\u001b[1;32m-> 1023\u001b[0m     arg \u001b[39m=\u001b[39m _adjust_to_origin(arg, origin, unit)\n\u001b[0;32m   1025\u001b[0m tz \u001b[39m=\u001b[39m \u001b[39m\"\u001b[39m\u001b[39mutc\u001b[39m\u001b[39m\"\u001b[39m \u001b[39mif\u001b[39;00m utc \u001b[39melse\u001b[39;00m \u001b[39mNone\u001b[39;00m\n\u001b[0;32m   1026\u001b[0m convert_listlike \u001b[39m=\u001b[39m partial(\n\u001b[0;32m   1027\u001b[0m     _convert_listlike_datetimes,\n\u001b[0;32m   1028\u001b[0m     tz\u001b[39m=\u001b[39mtz,\n\u001b[1;32m   (...)\u001b[0m\n\u001b[0;32m   1034\u001b[0m     infer_datetime_format\u001b[39m=\u001b[39minfer_datetime_format,\n\u001b[0;32m   1035\u001b[0m )\n",
      "File \u001b[1;32m~\\AppData\\Local\\Packages\\PythonSoftwareFoundation.Python.3.9_qbz5n2kfra8p0\\LocalCache\\local-packages\\Python39\\site-packages\\pandas\\core\\tools\\datetimes.py:597\u001b[0m, in \u001b[0;36m_adjust_to_origin\u001b[1;34m(arg, origin, unit)\u001b[0m\n\u001b[0;32m    591\u001b[0m \u001b[39melse\u001b[39;00m:\n\u001b[0;32m    592\u001b[0m     \u001b[39m# arg must be numeric\u001b[39;00m\n\u001b[0;32m    593\u001b[0m     \u001b[39mif\u001b[39;00m \u001b[39mnot\u001b[39;00m (\n\u001b[0;32m    594\u001b[0m         (is_scalar(arg) \u001b[39mand\u001b[39;00m (is_integer(arg) \u001b[39mor\u001b[39;00m is_float(arg)))\n\u001b[0;32m    595\u001b[0m         \u001b[39mor\u001b[39;00m is_numeric_dtype(np\u001b[39m.\u001b[39masarray(arg))\n\u001b[0;32m    596\u001b[0m     ):\n\u001b[1;32m--> 597\u001b[0m         \u001b[39mraise\u001b[39;00m \u001b[39mValueError\u001b[39;00m(\n\u001b[0;32m    598\u001b[0m             \u001b[39mf\u001b[39m\u001b[39m\"\u001b[39m\u001b[39m'\u001b[39m\u001b[39m{\u001b[39;00marg\u001b[39m}\u001b[39;00m\u001b[39m'\u001b[39m\u001b[39m is not compatible with origin=\u001b[39m\u001b[39m'\u001b[39m\u001b[39m{\u001b[39;00morigin\u001b[39m}\u001b[39;00m\u001b[39m'\u001b[39m\u001b[39m; \u001b[39m\u001b[39m\"\u001b[39m\n\u001b[0;32m    599\u001b[0m             \u001b[39m\"\u001b[39m\u001b[39mit must be numeric with a unit specified\u001b[39m\u001b[39m\"\u001b[39m\n\u001b[0;32m    600\u001b[0m         )\n\u001b[0;32m    602\u001b[0m     \u001b[39m# we are going to offset back to unix / epoch time\u001b[39;00m\n\u001b[0;32m    603\u001b[0m     \u001b[39mtry\u001b[39;00m:\n",
      "\u001b[1;31mValueError\u001b[0m: '0                  39718\n1            June 8,2008\n2    2010-05-26 00:00:00\n3                  40699\n4    2011-07-22 00:00:00\nName: Release Date, dtype: object' is not compatible with origin='1899-12-30'; it must be numeric with a unit specified"
     ]
    }
   ],
   "source": [
    "pd.to_datetime(df_a['Release Date'], unit='d', origin='1899-12-30')"
   ]
  },
  {
   "cell_type": "code",
   "execution_count": 8,
   "metadata": {},
   "outputs": [
    {
     "data": {
      "text/plain": [
       "0    September 27, 2008\n",
       "1         June 08, 2008\n",
       "2          May 26, 2010\n",
       "3         June 05, 2011\n",
       "4         July 22, 2011\n",
       "Name: Release Date, dtype: object"
      ]
     },
     "execution_count": 8,
     "metadata": {},
     "output_type": "execute_result"
    }
   ],
   "source": [
    "from datetime import datetime, timedelta\n",
    "\n",
    "m = df_a['Release Date'].astype(str).str.isdigit()\n",
    "\n",
    "def from_excel_ordinal(ordinal: float, _epoch0=datetime(1899, 12, 31)) -> datetime:\n",
    "    if ordinal >= 60:\n",
    "        ordinal -= 1  # Excel leap year bug, 1900 is not a leap year!\n",
    "    return (_epoch0 + timedelta(days=ordinal)).replace(microsecond=0)\n",
    "\n",
    "df_a.loc[m, 'Release Date'] = \\\n",
    "df_a.loc[m, 'Release Date']\\\n",
    "  .astype(int)\\\n",
    "  .apply(from_excel_ordinal)\n",
    "\n",
    "df_a['Release Date'] = pd.to_datetime(df_a['Release Date'], errors='coerce').dt.strftime('%B %d, %Y') #Using errors='coerce'. It will replace all non-numeric values with NaN. \n",
    "df_a['Release Date']"
   ]
  },
  {
   "cell_type": "code",
   "execution_count": null,
   "metadata": {},
   "outputs": [],
   "source": []
  }
 ],
 "metadata": {
  "kernelspec": {
   "display_name": "Python 3.9.13 64-bit (windows store)",
   "language": "python",
   "name": "python3"
  },
  "language_info": {
   "codemirror_mode": {
    "name": "ipython",
    "version": 3
   },
   "file_extension": ".py",
   "mimetype": "text/x-python",
   "name": "python",
   "nbconvert_exporter": "python",
   "pygments_lexer": "ipython3",
   "version": "3.9.13"
  },
  "orig_nbformat": 4,
  "vscode": {
   "interpreter": {
    "hash": "6a19634eb33c5479826ec490c10857293e2fcbc0f1317d2520de4bd5a8793109"
   }
  }
 },
 "nbformat": 4,
 "nbformat_minor": 2
}
