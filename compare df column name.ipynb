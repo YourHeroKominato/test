{
 "cells": [
  {
   "cell_type": "markdown",
   "metadata": {},
   "source": [
    "Objective: Get lists from two pandas dataframe column and find out which columns are same and not.\n",
    "\n",
    "Reference: https://note.nkmk.me/python-list-common/"
   ]
  },
  {
   "cell_type": "code",
   "execution_count": 4,
   "metadata": {},
   "outputs": [
    {
     "data": {
      "text/html": [
       "<div>\n",
       "<style scoped>\n",
       "    .dataframe tbody tr th:only-of-type {\n",
       "        vertical-align: middle;\n",
       "    }\n",
       "\n",
       "    .dataframe tbody tr th {\n",
       "        vertical-align: top;\n",
       "    }\n",
       "\n",
       "    .dataframe thead th {\n",
       "        text-align: right;\n",
       "    }\n",
       "</style>\n",
       "<table border=\"1\" class=\"dataframe\">\n",
       "  <thead>\n",
       "    <tr style=\"text-align: right;\">\n",
       "      <th></th>\n",
       "      <th>FilmID</th>\n",
       "      <th>FilmName</th>\n",
       "      <th>Rating</th>\n",
       "    </tr>\n",
       "  </thead>\n",
       "  <tbody>\n",
       "    <tr>\n",
       "      <th>a</th>\n",
       "      <td>23</td>\n",
       "      <td>Dark Knight</td>\n",
       "      <td>4.9</td>\n",
       "    </tr>\n",
       "    <tr>\n",
       "      <th>b</th>\n",
       "      <td>24</td>\n",
       "      <td>Intersteller</td>\n",
       "      <td>5</td>\n",
       "    </tr>\n",
       "    <tr>\n",
       "      <th>c</th>\n",
       "      <td>25</td>\n",
       "      <td>Inception</td>\n",
       "      <td>4.7</td>\n",
       "    </tr>\n",
       "  </tbody>\n",
       "</table>\n",
       "</div>"
      ],
      "text/plain": [
       "  FilmID      FilmName Rating\n",
       "a     23   Dark Knight    4.9\n",
       "b     24  Intersteller      5\n",
       "c     25     Inception    4.7"
      ]
     },
     "metadata": {},
     "output_type": "display_data"
    },
    {
     "data": {
      "text/html": [
       "<div>\n",
       "<style scoped>\n",
       "    .dataframe tbody tr th:only-of-type {\n",
       "        vertical-align: middle;\n",
       "    }\n",
       "\n",
       "    .dataframe tbody tr th {\n",
       "        vertical-align: top;\n",
       "    }\n",
       "\n",
       "    .dataframe thead th {\n",
       "        text-align: right;\n",
       "    }\n",
       "</style>\n",
       "<table border=\"1\" class=\"dataframe\">\n",
       "  <thead>\n",
       "    <tr style=\"text-align: right;\">\n",
       "      <th></th>\n",
       "      <th>FilmID</th>\n",
       "      <th>FilmName</th>\n",
       "      <th>Star</th>\n",
       "    </tr>\n",
       "  </thead>\n",
       "  <tbody>\n",
       "    <tr>\n",
       "      <th>a</th>\n",
       "      <td>23</td>\n",
       "      <td>Dark Knight</td>\n",
       "      <td>4.9</td>\n",
       "    </tr>\n",
       "    <tr>\n",
       "      <th>b</th>\n",
       "      <td>24</td>\n",
       "      <td>Intersteller</td>\n",
       "      <td>5</td>\n",
       "    </tr>\n",
       "    <tr>\n",
       "      <th>c</th>\n",
       "      <td>25</td>\n",
       "      <td>Inception</td>\n",
       "      <td>4.7</td>\n",
       "    </tr>\n",
       "  </tbody>\n",
       "</table>\n",
       "</div>"
      ],
      "text/plain": [
       "  FilmID      FilmName Star\n",
       "a     23   Dark Knight  4.9\n",
       "b     24  Intersteller    5\n",
       "c     25     Inception  4.7"
      ]
     },
     "metadata": {},
     "output_type": "display_data"
    }
   ],
   "source": [
    "import pandas as pd\n",
    "\n",
    "# Create a movie rating Dataframe with columns or indices\n",
    "df1 = pd.DataFrame(columns=['FilmID', 'FilmName', 'Rating'], index=['a', 'b', 'c'])\n",
    "df1.loc['a'] = [23, 'Dark Knight', 4.9]\n",
    "df1.loc['b'] = [24, 'Intersteller', 5]\n",
    "df1.loc['c'] = [25, 'Inception', 4.7]\n",
    "display(df1)\n",
    "\n",
    "# Create a movie rating Dataframe with columns or indices\n",
    "# but one of column name is different from first one\n",
    "df2 = pd.DataFrame(columns=['FilmID', 'FilmName', 'Star'], index=['a', 'b', 'c'])\n",
    "df2.loc['a'] = [23, 'Dark Knight', 4.9]\n",
    "df2.loc['b'] = [24, 'Intersteller', 5]\n",
    "df2.loc['c'] = [25, 'Inception', 4.7]\n",
    "display(df2)"
   ]
  },
  {
   "cell_type": "code",
   "execution_count": 6,
   "metadata": {},
   "outputs": [
    {
     "name": "stdout",
     "output_type": "stream",
     "text": [
      "['FilmID', 'FilmName', 'Rating']\n",
      "['FilmID', 'FilmName', 'Star']\n"
     ]
    }
   ],
   "source": [
    "# either \"DataFrame.columns.values.tolist()\" or \"DataFrame.columns.tolist()\" works \n",
    "# but the former is faster\n",
    "df1_col = df1.columns.values.tolist()\n",
    "df2_col = df2.columns.values.tolist()\n",
    "print(df1_col)\n",
    "print(df2_col)"
   ]
  },
  {
   "cell_type": "code",
   "execution_count": 7,
   "metadata": {},
   "outputs": [
    {
     "name": "stdout",
     "output_type": "stream",
     "text": [
      "{'Rating', 'Star'}\n"
     ]
    }
   ],
   "source": [
    "diff = set(df1_col) ^ set(df2_col)\n",
    "print(diff)"
   ]
  },
  {
   "cell_type": "code",
   "execution_count": 8,
   "metadata": {},
   "outputs": [
    {
     "name": "stdout",
     "output_type": "stream",
     "text": [
      "['FilmID', 'FilmName', 'Rating', 'FilmID', 'FilmName', 'Star']\n",
      "{'Star', 'FilmID', 'FilmName', 'Rating'}\n",
      "['Star', 'Rating']\n"
     ]
    }
   ],
   "source": [
    "#other way to do\n",
    "all = df1_col + df2_col\n",
    "print(all)\n",
    "\n",
    "print(set(all))\n",
    "\n",
    "all_only = [x for x in set(all) if all.count(x) == 1]\n",
    "print(all_only)"
   ]
  },
  {
   "cell_type": "markdown",
   "metadata": {},
   "source": [
    "It does work even when you want to investigate Dataframe about which Columns were added to previous one."
   ]
  },
  {
   "cell_type": "code",
   "execution_count": 12,
   "metadata": {},
   "outputs": [
    {
     "data": {
      "text/html": [
       "<div>\n",
       "<style scoped>\n",
       "    .dataframe tbody tr th:only-of-type {\n",
       "        vertical-align: middle;\n",
       "    }\n",
       "\n",
       "    .dataframe tbody tr th {\n",
       "        vertical-align: top;\n",
       "    }\n",
       "\n",
       "    .dataframe thead th {\n",
       "        text-align: right;\n",
       "    }\n",
       "</style>\n",
       "<table border=\"1\" class=\"dataframe\">\n",
       "  <thead>\n",
       "    <tr style=\"text-align: right;\">\n",
       "      <th></th>\n",
       "      <th>FilmID</th>\n",
       "      <th>FilmName</th>\n",
       "      <th>Rating</th>\n",
       "    </tr>\n",
       "  </thead>\n",
       "  <tbody>\n",
       "    <tr>\n",
       "      <th>a</th>\n",
       "      <td>23</td>\n",
       "      <td>Dark Knight</td>\n",
       "      <td>4.9</td>\n",
       "    </tr>\n",
       "    <tr>\n",
       "      <th>b</th>\n",
       "      <td>24</td>\n",
       "      <td>Intersteller</td>\n",
       "      <td>5</td>\n",
       "    </tr>\n",
       "    <tr>\n",
       "      <th>c</th>\n",
       "      <td>25</td>\n",
       "      <td>Inception</td>\n",
       "      <td>4.7</td>\n",
       "    </tr>\n",
       "  </tbody>\n",
       "</table>\n",
       "</div>"
      ],
      "text/plain": [
       "  FilmID      FilmName Rating\n",
       "a     23   Dark Knight    4.9\n",
       "b     24  Intersteller      5\n",
       "c     25     Inception    4.7"
      ]
     },
     "metadata": {},
     "output_type": "display_data"
    },
    {
     "data": {
      "text/html": [
       "<div>\n",
       "<style scoped>\n",
       "    .dataframe tbody tr th:only-of-type {\n",
       "        vertical-align: middle;\n",
       "    }\n",
       "\n",
       "    .dataframe tbody tr th {\n",
       "        vertical-align: top;\n",
       "    }\n",
       "\n",
       "    .dataframe thead th {\n",
       "        text-align: right;\n",
       "    }\n",
       "</style>\n",
       "<table border=\"1\" class=\"dataframe\">\n",
       "  <thead>\n",
       "    <tr style=\"text-align: right;\">\n",
       "      <th></th>\n",
       "      <th>FilmID</th>\n",
       "      <th>FilmName</th>\n",
       "      <th>Rating</th>\n",
       "      <th>Ranking</th>\n",
       "    </tr>\n",
       "  </thead>\n",
       "  <tbody>\n",
       "    <tr>\n",
       "      <th>a</th>\n",
       "      <td>23</td>\n",
       "      <td>Dark Knight</td>\n",
       "      <td>4.9</td>\n",
       "      <td>2</td>\n",
       "    </tr>\n",
       "    <tr>\n",
       "      <th>b</th>\n",
       "      <td>24</td>\n",
       "      <td>Intersteller</td>\n",
       "      <td>5</td>\n",
       "      <td>1</td>\n",
       "    </tr>\n",
       "    <tr>\n",
       "      <th>c</th>\n",
       "      <td>25</td>\n",
       "      <td>Inception</td>\n",
       "      <td>4.7</td>\n",
       "      <td>3</td>\n",
       "    </tr>\n",
       "  </tbody>\n",
       "</table>\n",
       "</div>"
      ],
      "text/plain": [
       "  FilmID      FilmName Rating Ranking\n",
       "a     23   Dark Knight    4.9       2\n",
       "b     24  Intersteller      5       1\n",
       "c     25     Inception    4.7       3"
      ]
     },
     "metadata": {},
     "output_type": "display_data"
    }
   ],
   "source": [
    "import pandas as pd\n",
    "\n",
    "# Create a movie rating Dataframe with columns or indices\n",
    "df1 = pd.DataFrame(columns=['FilmID', 'FilmName', 'Rating'], index=['a', 'b', 'c'])\n",
    "df1.loc['a'] = [23, 'Dark Knight', 4.9]\n",
    "df1.loc['b'] = [24, 'Intersteller', 5]\n",
    "df1.loc['c'] = [25, 'Inception', 4.7]\n",
    "display(df1)\n",
    "\n",
    "# Create a movie rating Dataframe with columns or indices\n",
    "# but one of column name is different from first one\n",
    "df2 = pd.DataFrame(columns=['FilmID', 'FilmName', 'Rating','Ranking'], index=['a', 'b', 'c'])\n",
    "df2.loc['a'] = [23, 'Dark Knight', 4.9, 2]\n",
    "df2.loc['b'] = [24, 'Intersteller', 5, 1]\n",
    "df2.loc['c'] = [25, 'Inception', 4.7, 3]\n",
    "display(df2)"
   ]
  },
  {
   "cell_type": "code",
   "execution_count": 13,
   "metadata": {},
   "outputs": [
    {
     "name": "stdout",
     "output_type": "stream",
     "text": [
      "['FilmID', 'FilmName', 'Rating']\n",
      "['FilmID', 'FilmName', 'Rating', 'Ranking']\n"
     ]
    }
   ],
   "source": [
    "# either \"DataFrame.columns.values.tolist()\" or \"DataFrame.columns.tolist()\" works \n",
    "# but the former is faster\n",
    "df1_col = df1.columns.values.tolist()\n",
    "df2_col = df2.columns.values.tolist()\n",
    "print(df1_col)\n",
    "print(df2_col)"
   ]
  },
  {
   "cell_type": "code",
   "execution_count": 14,
   "metadata": {},
   "outputs": [
    {
     "name": "stdout",
     "output_type": "stream",
     "text": [
      "{'Ranking'}\n"
     ]
    }
   ],
   "source": [
    "diff = set(df1_col) ^ set(df2_col)\n",
    "print(diff)"
   ]
  },
  {
   "cell_type": "code",
   "execution_count": null,
   "metadata": {},
   "outputs": [],
   "source": []
  }
 ],
 "metadata": {
  "interpreter": {
   "hash": "11c7bb1d874780c74fbc0f68c29045a277213b3eea67e25e78fc001e6b59625e"
  },
  "kernelspec": {
   "display_name": "Python 3.9.10 64-bit (windows store)",
   "language": "python",
   "name": "python3"
  },
  "language_info": {
   "codemirror_mode": {
    "name": "ipython",
    "version": 3
   },
   "file_extension": ".py",
   "mimetype": "text/x-python",
   "name": "python",
   "nbconvert_exporter": "python",
   "pygments_lexer": "ipython3",
   "version": "3.9.10"
  },
  "orig_nbformat": 4
 },
 "nbformat": 4,
 "nbformat_minor": 2
}
