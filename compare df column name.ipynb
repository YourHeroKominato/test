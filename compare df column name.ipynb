{
 "cells": [
  {
   "cell_type": "markdown",
   "metadata": {},
   "source": [
    "## Objective: Get lists from two pandas dataframe column and find out which columns are same and not.\n",
    "\n",
    "------\n",
    "Reference: https://note.nkmk.me/python-list-common/"
   ]
  },
  {
   "cell_type": "code",
   "execution_count": 11,
   "metadata": {},
   "outputs": [
    {
     "data": {
      "text/html": [
       "<div>\n",
       "<style scoped>\n",
       "    .dataframe tbody tr th:only-of-type {\n",
       "        vertical-align: middle;\n",
       "    }\n",
       "\n",
       "    .dataframe tbody tr th {\n",
       "        vertical-align: top;\n",
       "    }\n",
       "\n",
       "    .dataframe thead th {\n",
       "        text-align: right;\n",
       "    }\n",
       "</style>\n",
       "<table border=\"1\" class=\"dataframe\">\n",
       "  <thead>\n",
       "    <tr style=\"text-align: right;\">\n",
       "      <th></th>\n",
       "      <th>FilmID</th>\n",
       "      <th>FilmName</th>\n",
       "      <th>Rating</th>\n",
       "    </tr>\n",
       "  </thead>\n",
       "  <tbody>\n",
       "    <tr>\n",
       "      <th>a</th>\n",
       "      <td>23</td>\n",
       "      <td>Dark Knight</td>\n",
       "      <td>4.9</td>\n",
       "    </tr>\n",
       "    <tr>\n",
       "      <th>b</th>\n",
       "      <td>24</td>\n",
       "      <td>Intersteller</td>\n",
       "      <td>5</td>\n",
       "    </tr>\n",
       "    <tr>\n",
       "      <th>c</th>\n",
       "      <td>25</td>\n",
       "      <td>Inception</td>\n",
       "      <td>4.7</td>\n",
       "    </tr>\n",
       "  </tbody>\n",
       "</table>\n",
       "</div>"
      ],
      "text/plain": [
       "  FilmID      FilmName Rating\n",
       "a     23   Dark Knight    4.9\n",
       "b     24  Intersteller      5\n",
       "c     25     Inception    4.7"
      ]
     },
     "metadata": {},
     "output_type": "display_data"
    },
    {
     "data": {
      "text/html": [
       "<div>\n",
       "<style scoped>\n",
       "    .dataframe tbody tr th:only-of-type {\n",
       "        vertical-align: middle;\n",
       "    }\n",
       "\n",
       "    .dataframe tbody tr th {\n",
       "        vertical-align: top;\n",
       "    }\n",
       "\n",
       "    .dataframe thead th {\n",
       "        text-align: right;\n",
       "    }\n",
       "</style>\n",
       "<table border=\"1\" class=\"dataframe\">\n",
       "  <thead>\n",
       "    <tr style=\"text-align: right;\">\n",
       "      <th></th>\n",
       "      <th>FilmID</th>\n",
       "      <th>FilmName</th>\n",
       "      <th>Star</th>\n",
       "    </tr>\n",
       "  </thead>\n",
       "  <tbody>\n",
       "    <tr>\n",
       "      <th>a</th>\n",
       "      <td>23</td>\n",
       "      <td>Dark Knight</td>\n",
       "      <td>4.9</td>\n",
       "    </tr>\n",
       "    <tr>\n",
       "      <th>b</th>\n",
       "      <td>24</td>\n",
       "      <td>Intersteller</td>\n",
       "      <td>5</td>\n",
       "    </tr>\n",
       "    <tr>\n",
       "      <th>c</th>\n",
       "      <td>25</td>\n",
       "      <td>Inception</td>\n",
       "      <td>4.7</td>\n",
       "    </tr>\n",
       "  </tbody>\n",
       "</table>\n",
       "</div>"
      ],
      "text/plain": [
       "  FilmID      FilmName Star\n",
       "a     23   Dark Knight  4.9\n",
       "b     24  Intersteller    5\n",
       "c     25     Inception  4.7"
      ]
     },
     "metadata": {},
     "output_type": "display_data"
    }
   ],
   "source": [
    "import pandas as pd\n",
    "\n",
    "# Create a movie rating Dataframe with columns or indices\n",
    "df1 = pd.DataFrame(columns=['FilmID', 'FilmName', 'Rating'], index=['a', 'b', 'c'])\n",
    "df1.loc['a'] = [23, 'Dark Knight', 4.9]\n",
    "df1.loc['b'] = [24, 'Intersteller', 5]\n",
    "df1.loc['c'] = [25, 'Inception', 4.7]\n",
    "display(df1)\n",
    "\n",
    "# Create a movie rating Dataframe with columns or indices\n",
    "# but one of column name is different from first one\n",
    "df2 = pd.DataFrame(columns=['FilmID', 'FilmName', 'Star'], index=['a', 'b', 'c'])\n",
    "df2.loc['a'] = [23, 'Dark Knight', 4.9]\n",
    "df2.loc['b'] = [24, 'Intersteller', 5]\n",
    "df2.loc['c'] = [25, 'Inception', 4.7]\n",
    "display(df2)"
   ]
  },
  {
   "cell_type": "code",
   "execution_count": 12,
   "metadata": {},
   "outputs": [
    {
     "name": "stdout",
     "output_type": "stream",
     "text": [
      "['FilmID', 'FilmName', 'Rating']\n",
      "['FilmID', 'FilmName', 'Star']\n"
     ]
    }
   ],
   "source": [
    "# either \"DataFrame.columns.values.tolist()\" or \"DataFrame.columns.tolist()\" works \n",
    "# but the former is faster\n",
    "df1_col = df1.columns.values.tolist()\n",
    "df2_col = df2.columns.values.tolist()\n",
    "print(df1_col)\n",
    "print(df2_col)"
   ]
  },
  {
   "cell_type": "code",
   "execution_count": 13,
   "metadata": {},
   "outputs": [
    {
     "name": "stdout",
     "output_type": "stream",
     "text": [
      "{'Star', 'Rating'}\n"
     ]
    }
   ],
   "source": [
    "diff = set(df1_col) ^ set(df2_col)\n",
    "print(diff)"
   ]
  },
  {
   "cell_type": "code",
   "execution_count": 14,
   "metadata": {},
   "outputs": [
    {
     "name": "stdout",
     "output_type": "stream",
     "text": [
      "['FilmID', 'FilmName', 'Rating', 'FilmID', 'FilmName', 'Star']\n",
      "{'FilmID', 'FilmName', 'Star', 'Rating'}\n",
      "['Star', 'Rating']\n"
     ]
    }
   ],
   "source": [
    "#other way to do\n",
    "all = df1_col + df2_col\n",
    "print(all)\n",
    "\n",
    "print(set(all))\n",
    "\n",
    "all_only = [x for x in set(all) if all.count(x) == 1]\n",
    "print(all_only)"
   ]
  },
  {
   "cell_type": "markdown",
   "metadata": {},
   "source": [
    "### It does work even when you want to investigate what columns were added to previous dataframe.\n",
    "\n",
    "------"
   ]
  },
  {
   "cell_type": "code",
   "execution_count": 15,
   "metadata": {},
   "outputs": [
    {
     "data": {
      "text/html": [
       "<div>\n",
       "<style scoped>\n",
       "    .dataframe tbody tr th:only-of-type {\n",
       "        vertical-align: middle;\n",
       "    }\n",
       "\n",
       "    .dataframe tbody tr th {\n",
       "        vertical-align: top;\n",
       "    }\n",
       "\n",
       "    .dataframe thead th {\n",
       "        text-align: right;\n",
       "    }\n",
       "</style>\n",
       "<table border=\"1\" class=\"dataframe\">\n",
       "  <thead>\n",
       "    <tr style=\"text-align: right;\">\n",
       "      <th></th>\n",
       "      <th>FilmID</th>\n",
       "      <th>FilmName</th>\n",
       "      <th>Rating</th>\n",
       "    </tr>\n",
       "  </thead>\n",
       "  <tbody>\n",
       "    <tr>\n",
       "      <th>a</th>\n",
       "      <td>23</td>\n",
       "      <td>Dark Knight</td>\n",
       "      <td>4.9</td>\n",
       "    </tr>\n",
       "    <tr>\n",
       "      <th>b</th>\n",
       "      <td>24</td>\n",
       "      <td>Intersteller</td>\n",
       "      <td>5</td>\n",
       "    </tr>\n",
       "    <tr>\n",
       "      <th>c</th>\n",
       "      <td>25</td>\n",
       "      <td>Inception</td>\n",
       "      <td>4.7</td>\n",
       "    </tr>\n",
       "  </tbody>\n",
       "</table>\n",
       "</div>"
      ],
      "text/plain": [
       "  FilmID      FilmName Rating\n",
       "a     23   Dark Knight    4.9\n",
       "b     24  Intersteller      5\n",
       "c     25     Inception    4.7"
      ]
     },
     "metadata": {},
     "output_type": "display_data"
    },
    {
     "data": {
      "text/html": [
       "<div>\n",
       "<style scoped>\n",
       "    .dataframe tbody tr th:only-of-type {\n",
       "        vertical-align: middle;\n",
       "    }\n",
       "\n",
       "    .dataframe tbody tr th {\n",
       "        vertical-align: top;\n",
       "    }\n",
       "\n",
       "    .dataframe thead th {\n",
       "        text-align: right;\n",
       "    }\n",
       "</style>\n",
       "<table border=\"1\" class=\"dataframe\">\n",
       "  <thead>\n",
       "    <tr style=\"text-align: right;\">\n",
       "      <th></th>\n",
       "      <th>FilmID</th>\n",
       "      <th>FilmName</th>\n",
       "      <th>Rating</th>\n",
       "      <th>Ranking</th>\n",
       "    </tr>\n",
       "  </thead>\n",
       "  <tbody>\n",
       "    <tr>\n",
       "      <th>a</th>\n",
       "      <td>23</td>\n",
       "      <td>Dark Knight</td>\n",
       "      <td>4.9</td>\n",
       "      <td>2</td>\n",
       "    </tr>\n",
       "    <tr>\n",
       "      <th>b</th>\n",
       "      <td>24</td>\n",
       "      <td>Intersteller</td>\n",
       "      <td>5</td>\n",
       "      <td>1</td>\n",
       "    </tr>\n",
       "    <tr>\n",
       "      <th>c</th>\n",
       "      <td>25</td>\n",
       "      <td>Inception</td>\n",
       "      <td>4.7</td>\n",
       "      <td>3</td>\n",
       "    </tr>\n",
       "  </tbody>\n",
       "</table>\n",
       "</div>"
      ],
      "text/plain": [
       "  FilmID      FilmName Rating Ranking\n",
       "a     23   Dark Knight    4.9       2\n",
       "b     24  Intersteller      5       1\n",
       "c     25     Inception    4.7       3"
      ]
     },
     "metadata": {},
     "output_type": "display_data"
    }
   ],
   "source": [
    "import pandas as pd\n",
    "\n",
    "# Create a movie rating Dataframe with columns or indices\n",
    "df1 = pd.DataFrame(columns=['FilmID', 'FilmName', 'Rating'], index=['a', 'b', 'c'])\n",
    "df1.loc['a'] = [23, 'Dark Knight', 4.9]\n",
    "df1.loc['b'] = [24, 'Intersteller', 5]\n",
    "df1.loc['c'] = [25, 'Inception', 4.7]\n",
    "display(df1)\n",
    "\n",
    "# Create updated movie rating Dataframe with new column 'Ranking'\n",
    "df2 = pd.DataFrame(columns=['FilmID', 'FilmName', 'Rating','Ranking'], index=['a', 'b', 'c'])\n",
    "df2.loc['a'] = [23, 'Dark Knight', 4.9, 2]\n",
    "df2.loc['b'] = [24, 'Intersteller', 5, 1]\n",
    "df2.loc['c'] = [25, 'Inception', 4.7, 3]\n",
    "display(df2)"
   ]
  },
  {
   "cell_type": "code",
   "execution_count": 16,
   "metadata": {},
   "outputs": [
    {
     "name": "stdout",
     "output_type": "stream",
     "text": [
      "['FilmID', 'FilmName', 'Rating']\n",
      "['FilmID', 'FilmName', 'Rating', 'Ranking']\n"
     ]
    }
   ],
   "source": [
    "# either \"DataFrame.columns.values.tolist()\" or \"DataFrame.columns.tolist()\" works \n",
    "# but the former is faster\n",
    "df1_col = df1.columns.values.tolist()\n",
    "df2_col = df2.columns.values.tolist()\n",
    "print(df1_col)\n",
    "print(df2_col)"
   ]
  },
  {
   "cell_type": "code",
   "execution_count": 17,
   "metadata": {},
   "outputs": [
    {
     "name": "stdout",
     "output_type": "stream",
     "text": [
      "{'Ranking'}\n"
     ]
    }
   ],
   "source": [
    "diff = set(df1_col) ^ set(df2_col)\n",
    "print(diff)"
   ]
  },
  {
   "cell_type": "markdown",
   "metadata": {},
   "source": [
    "### You can also find out common column name\n",
    "\n",
    "------"
   ]
  },
  {
   "cell_type": "code",
   "execution_count": 18,
   "metadata": {},
   "outputs": [
    {
     "data": {
      "text/plain": [
       "{'FilmID', 'FilmName', 'Rating'}"
      ]
     },
     "metadata": {},
     "output_type": "display_data"
    }
   ],
   "source": [
    "df1_col = df1.columns.values.tolist()\n",
    "df2_col = df2.columns.values.tolist()\n",
    "common = set(df1_col) & set(df2_col)\n",
    "display(common)"
   ]
  },
  {
   "cell_type": "markdown",
   "metadata": {},
   "source": [
    "### You can compare it by looking at columns name side by side\n",
    "\n",
    "------"
   ]
  },
  {
   "cell_type": "code",
   "execution_count": 19,
   "metadata": {},
   "outputs": [
    {
     "data": {
      "text/html": [
       "<div>\n",
       "<style scoped>\n",
       "    .dataframe tbody tr th:only-of-type {\n",
       "        vertical-align: middle;\n",
       "    }\n",
       "\n",
       "    .dataframe tbody tr th {\n",
       "        vertical-align: top;\n",
       "    }\n",
       "\n",
       "    .dataframe thead th {\n",
       "        text-align: right;\n",
       "    }\n",
       "</style>\n",
       "<table border=\"1\" class=\"dataframe\">\n",
       "  <thead>\n",
       "    <tr style=\"text-align: right;\">\n",
       "      <th></th>\n",
       "      <th>FilmID</th>\n",
       "      <th>FilmName</th>\n",
       "      <th>Rating</th>\n",
       "    </tr>\n",
       "  </thead>\n",
       "  <tbody>\n",
       "    <tr>\n",
       "      <th>a</th>\n",
       "      <td>23</td>\n",
       "      <td>Dark Knight</td>\n",
       "      <td>4.9</td>\n",
       "    </tr>\n",
       "    <tr>\n",
       "      <th>b</th>\n",
       "      <td>24</td>\n",
       "      <td>Intersteller</td>\n",
       "      <td>5</td>\n",
       "    </tr>\n",
       "    <tr>\n",
       "      <th>c</th>\n",
       "      <td>25</td>\n",
       "      <td>Inception</td>\n",
       "      <td>4.7</td>\n",
       "    </tr>\n",
       "  </tbody>\n",
       "</table>\n",
       "</div>"
      ],
      "text/plain": [
       "  FilmID      FilmName Rating\n",
       "a     23   Dark Knight    4.9\n",
       "b     24  Intersteller      5\n",
       "c     25     Inception    4.7"
      ]
     },
     "metadata": {},
     "output_type": "display_data"
    },
    {
     "data": {
      "text/html": [
       "<div>\n",
       "<style scoped>\n",
       "    .dataframe tbody tr th:only-of-type {\n",
       "        vertical-align: middle;\n",
       "    }\n",
       "\n",
       "    .dataframe tbody tr th {\n",
       "        vertical-align: top;\n",
       "    }\n",
       "\n",
       "    .dataframe thead th {\n",
       "        text-align: right;\n",
       "    }\n",
       "</style>\n",
       "<table border=\"1\" class=\"dataframe\">\n",
       "  <thead>\n",
       "    <tr style=\"text-align: right;\">\n",
       "      <th></th>\n",
       "      <th>Film_ID</th>\n",
       "      <th>Film Name</th>\n",
       "      <th>Rating Star</th>\n",
       "    </tr>\n",
       "  </thead>\n",
       "  <tbody>\n",
       "    <tr>\n",
       "      <th>a</th>\n",
       "      <td>23</td>\n",
       "      <td>Dark Knight</td>\n",
       "      <td>4.9</td>\n",
       "    </tr>\n",
       "    <tr>\n",
       "      <th>b</th>\n",
       "      <td>24</td>\n",
       "      <td>Intersteller</td>\n",
       "      <td>5</td>\n",
       "    </tr>\n",
       "    <tr>\n",
       "      <th>c</th>\n",
       "      <td>25</td>\n",
       "      <td>Inception</td>\n",
       "      <td>4.7</td>\n",
       "    </tr>\n",
       "  </tbody>\n",
       "</table>\n",
       "</div>"
      ],
      "text/plain": [
       "  Film_ID     Film Name Rating Star\n",
       "a      23   Dark Knight         4.9\n",
       "b      24  Intersteller           5\n",
       "c      25     Inception         4.7"
      ]
     },
     "metadata": {},
     "output_type": "display_data"
    }
   ],
   "source": [
    "# Create a movie rating Dataframe with columns or indices\n",
    "df1 = pd.DataFrame(columns=['FilmID', 'FilmName', 'Rating'], index=['a', 'b', 'c'])\n",
    "df1.loc['a'] = [23, 'Dark Knight', 4.9]\n",
    "df1.loc['b'] = [24, 'Intersteller', 5]\n",
    "df1.loc['c'] = [25, 'Inception', 4.7]\n",
    "display(df1)\n",
    "\n",
    "# Create a movie rating Dataframe with columns or indices\n",
    "# but each column name are slightly different from first one\n",
    "df2 = pd.DataFrame(columns=['Film_ID', 'Film Name', 'Rating Star'], index=['a', 'b', 'c'])\n",
    "df2.loc['a'] = [23, 'Dark Knight', 4.9]\n",
    "df2.loc['b'] = [24, 'Intersteller', 5]\n",
    "df2.loc['c'] = [25, 'Inception', 4.7]\n",
    "display(df2)"
   ]
  },
  {
   "cell_type": "code",
   "execution_count": 20,
   "metadata": {},
   "outputs": [
    {
     "data": {
      "text/html": [
       "<div>\n",
       "<style scoped>\n",
       "    .dataframe tbody tr th:only-of-type {\n",
       "        vertical-align: middle;\n",
       "    }\n",
       "\n",
       "    .dataframe tbody tr th {\n",
       "        vertical-align: top;\n",
       "    }\n",
       "\n",
       "    .dataframe thead th {\n",
       "        text-align: right;\n",
       "    }\n",
       "</style>\n",
       "<table border=\"1\" class=\"dataframe\">\n",
       "  <thead>\n",
       "    <tr style=\"text-align: right;\">\n",
       "      <th></th>\n",
       "      <th>X</th>\n",
       "      <th>Y</th>\n",
       "    </tr>\n",
       "  </thead>\n",
       "  <tbody>\n",
       "    <tr>\n",
       "      <th>0</th>\n",
       "      <td>FilmID</td>\n",
       "      <td>FilmID</td>\n",
       "    </tr>\n",
       "    <tr>\n",
       "      <th>1</th>\n",
       "      <td>FilmName</td>\n",
       "      <td>FilmName</td>\n",
       "    </tr>\n",
       "    <tr>\n",
       "      <th>2</th>\n",
       "      <td>Rating</td>\n",
       "      <td>Rating</td>\n",
       "    </tr>\n",
       "    <tr>\n",
       "      <th>3</th>\n",
       "      <td>NaN</td>\n",
       "      <td>Ranking</td>\n",
       "    </tr>\n",
       "  </tbody>\n",
       "</table>\n",
       "</div>"
      ],
      "text/plain": [
       "          X         Y\n",
       "0    FilmID    FilmID\n",
       "1  FilmName  FilmName\n",
       "2    Rating    Rating\n",
       "3       NaN   Ranking"
      ]
     },
     "metadata": {},
     "output_type": "display_data"
    }
   ],
   "source": [
    "s1 = pd.Series(df1_col, name='X')\n",
    "s2 = pd.Series(df2_col, name='Y')\n",
    "compare_col = pd.concat([s1, s2], axis=1)\n",
    "display(compare_col)"
   ]
  }
 ],
 "metadata": {
  "interpreter": {
   "hash": "11c7bb1d874780c74fbc0f68c29045a277213b3eea67e25e78fc001e6b59625e"
  },
  "kernelspec": {
   "display_name": "Python 3.9.10 64-bit (windows store)",
   "language": "python",
   "name": "python3"
  },
  "language_info": {
   "codemirror_mode": {
    "name": "ipython",
    "version": 3
   },
   "file_extension": ".py",
   "mimetype": "text/x-python",
   "name": "python",
   "nbconvert_exporter": "python",
   "pygments_lexer": "ipython3",
   "version": "3.9.10"
  },
  "orig_nbformat": 4
 },
 "nbformat": 4,
 "nbformat_minor": 2
}
