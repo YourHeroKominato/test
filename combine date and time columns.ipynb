{
 "cells": [
  {
   "cell_type": "markdown",
   "metadata": {},
   "source": [
    "## Add Date and Time (String) together and turn it to datetime64\n",
    "\n",
    "------\n",
    "Reference: https://stackoverflow.com/questions/17978092/combine-date-and-time-columns-using-python-pandas"
   ]
  },
  {
   "cell_type": "code",
   "execution_count": 4,
   "metadata": {},
   "outputs": [
    {
     "data": {
      "text/html": [
       "<div>\n",
       "<style scoped>\n",
       "    .dataframe tbody tr th:only-of-type {\n",
       "        vertical-align: middle;\n",
       "    }\n",
       "\n",
       "    .dataframe tbody tr th {\n",
       "        vertical-align: top;\n",
       "    }\n",
       "\n",
       "    .dataframe thead th {\n",
       "        text-align: right;\n",
       "    }\n",
       "</style>\n",
       "<table border=\"1\" class=\"dataframe\">\n",
       "  <thead>\n",
       "    <tr style=\"text-align: right;\">\n",
       "      <th></th>\n",
       "      <th>FilmName</th>\n",
       "      <th>Date</th>\n",
       "      <th>Time</th>\n",
       "    </tr>\n",
       "  </thead>\n",
       "  <tbody>\n",
       "    <tr>\n",
       "      <th>a</th>\n",
       "      <td>Dark Knight</td>\n",
       "      <td>2022-03-21 00:00:00</td>\n",
       "      <td>23:14:00</td>\n",
       "    </tr>\n",
       "    <tr>\n",
       "      <th>b</th>\n",
       "      <td>Intersteller</td>\n",
       "      <td>2022-03-22 00:00:00</td>\n",
       "      <td>23:15:00</td>\n",
       "    </tr>\n",
       "    <tr>\n",
       "      <th>c</th>\n",
       "      <td>Inception</td>\n",
       "      <td>2022-03-23 00:00:00</td>\n",
       "      <td>23:15:00</td>\n",
       "    </tr>\n",
       "  </tbody>\n",
       "</table>\n",
       "</div>"
      ],
      "text/plain": [
       "       FilmName                 Date      Time\n",
       "a   Dark Knight  2022-03-21 00:00:00  23:14:00\n",
       "b  Intersteller  2022-03-22 00:00:00  23:15:00\n",
       "c     Inception  2022-03-23 00:00:00  23:15:00"
      ]
     },
     "metadata": {},
     "output_type": "display_data"
    }
   ],
   "source": [
    "import pandas as pd\n",
    "\n",
    "# Create a movie rating Dataframe with columns or indices\n",
    "df = pd.DataFrame(columns=['FilmName', 'Date','Time'], index=['a', 'b', 'c'])\n",
    "df.loc['a'] = ['Dark Knight', '2022-03-21 00:00:00','23:14:00']\n",
    "df.loc['b'] = ['Intersteller', '2022-03-22 00:00:00','23:15:00']\n",
    "df.loc['c'] = ['Inception', '2022-03-23 00:00:00','23:15:00']\n",
    "display(df)"
   ]
  },
  {
   "cell_type": "code",
   "execution_count": 6,
   "metadata": {},
   "outputs": [
    {
     "data": {
      "text/plain": [
       "a   2022-03-21 23:14:00\n",
       "b   2022-03-22 23:15:00\n",
       "c   2022-03-23 23:15:00\n",
       "dtype: datetime64[ns]"
      ]
     },
     "execution_count": 6,
     "metadata": {},
     "output_type": "execute_result"
    }
   ],
   "source": [
    "pd.to_datetime(df['Date'] + ' ' + df['Time'])"
   ]
  },
  {
   "cell_type": "code",
   "execution_count": null,
   "metadata": {},
   "outputs": [],
   "source": []
  }
 ],
 "metadata": {
  "interpreter": {
   "hash": "11c7bb1d874780c74fbc0f68c29045a277213b3eea67e25e78fc001e6b59625e"
  },
  "kernelspec": {
   "display_name": "Python 3.9.10 64-bit (windows store)",
   "language": "python",
   "name": "python3"
  },
  "language_info": {
   "codemirror_mode": {
    "name": "ipython",
    "version": 3
   },
   "file_extension": ".py",
   "mimetype": "text/x-python",
   "name": "python",
   "nbconvert_exporter": "python",
   "pygments_lexer": "ipython3",
   "version": "3.9.10"
  },
  "orig_nbformat": 4
 },
 "nbformat": 4,
 "nbformat_minor": 2
}
