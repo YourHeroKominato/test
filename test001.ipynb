{
 "cells": [
  {
   "cell_type": "markdown",
   "metadata": {},
   "source": [
    "### Creating DataFrame from list of lists."
   ]
  },
  {
   "cell_type": "code",
   "execution_count": 9,
   "metadata": {},
   "outputs": [
    {
     "data": {
      "text/html": [
       "<div>\n",
       "<style scoped>\n",
       "    .dataframe tbody tr th:only-of-type {\n",
       "        vertical-align: middle;\n",
       "    }\n",
       "\n",
       "    .dataframe tbody tr th {\n",
       "        vertical-align: top;\n",
       "    }\n",
       "\n",
       "    .dataframe thead th {\n",
       "        text-align: right;\n",
       "    }\n",
       "</style>\n",
       "<table border=\"1\" class=\"dataframe\">\n",
       "  <thead>\n",
       "    <tr style=\"text-align: right;\">\n",
       "      <th></th>\n",
       "      <th>FilmID</th>\n",
       "      <th>FilmName</th>\n",
       "      <th>MainActor</th>\n",
       "    </tr>\n",
       "  </thead>\n",
       "  <tbody>\n",
       "    <tr>\n",
       "      <th>0</th>\n",
       "      <td>1</td>\n",
       "      <td>Iron Man</td>\n",
       "      <td>Robert Downey, Jr.</td>\n",
       "    </tr>\n",
       "    <tr>\n",
       "      <th>1</th>\n",
       "      <td>2</td>\n",
       "      <td>The Incredible Hulk</td>\n",
       "      <td>Edward Norton</td>\n",
       "    </tr>\n",
       "    <tr>\n",
       "      <th>2</th>\n",
       "      <td>3</td>\n",
       "      <td>Iron Man 2</td>\n",
       "      <td>Robert Downey Jr.</td>\n",
       "    </tr>\n",
       "    <tr>\n",
       "      <th>3</th>\n",
       "      <td>4</td>\n",
       "      <td>Thor</td>\n",
       "      <td>Chris Hemsworth</td>\n",
       "    </tr>\n",
       "  </tbody>\n",
       "</table>\n",
       "</div>"
      ],
      "text/plain": [
       "   FilmID             FilmName           MainActor\n",
       "0       1             Iron Man  Robert Downey, Jr.\n",
       "1       2  The Incredible Hulk       Edward Norton\n",
       "2       3           Iron Man 2   Robert Downey Jr.\n",
       "3       4                 Thor     Chris Hemsworth"
      ]
     },
     "metadata": {},
     "output_type": "display_data"
    }
   ],
   "source": [
    "# Import library\n",
    "import pandas as pd\n",
    "from IPython.display import display\n",
    "\n",
    "list_of_lists = [[1, \"Iron Man\", \"Robert Downey, Jr.\"], \n",
    "                  [2, \"The Incredible Hulk\", \"Edward Norton\"],\n",
    "                  [3, \"Iron Man 2\", \"Robert Downey Jr.\"],\n",
    "                  [4, \"Thor\", \"Chris Hemsworth\"]]\n",
    "\n",
    "# Create the pandas DataFrame\n",
    "df_a = pd.DataFrame(list_of_lists, columns=[\"FilmID\", \"FilmName\",\"MainActor\"])\n",
    "\n",
    "display(df_a)"
   ]
  },
  {
   "cell_type": "markdown",
   "metadata": {},
   "source": [
    "### Creating DataFrame from multiple lists."
   ]
  },
  {
   "cell_type": "code",
   "execution_count": 10,
   "metadata": {},
   "outputs": [
    {
     "data": {
      "text/html": [
       "<div>\n",
       "<style scoped>\n",
       "    .dataframe tbody tr th:only-of-type {\n",
       "        vertical-align: middle;\n",
       "    }\n",
       "\n",
       "    .dataframe tbody tr th {\n",
       "        vertical-align: top;\n",
       "    }\n",
       "\n",
       "    .dataframe thead th {\n",
       "        text-align: right;\n",
       "    }\n",
       "</style>\n",
       "<table border=\"1\" class=\"dataframe\">\n",
       "  <thead>\n",
       "    <tr style=\"text-align: right;\">\n",
       "      <th></th>\n",
       "      <th>FilmID</th>\n",
       "      <th>FilmName</th>\n",
       "      <th>MainActor</th>\n",
       "    </tr>\n",
       "  </thead>\n",
       "  <tbody>\n",
       "    <tr>\n",
       "      <th>0</th>\n",
       "      <td>1</td>\n",
       "      <td>Iron Man</td>\n",
       "      <td>Robert Downey Jr.</td>\n",
       "    </tr>\n",
       "    <tr>\n",
       "      <th>1</th>\n",
       "      <td>2</td>\n",
       "      <td>The Incredible Hulk</td>\n",
       "      <td>Edward Norton</td>\n",
       "    </tr>\n",
       "    <tr>\n",
       "      <th>2</th>\n",
       "      <td>3</td>\n",
       "      <td>Iron Man 2</td>\n",
       "      <td>Robert Downey Jr.</td>\n",
       "    </tr>\n",
       "    <tr>\n",
       "      <th>3</th>\n",
       "      <td>4</td>\n",
       "      <td>Thor</td>\n",
       "      <td>Chris Hemsworth</td>\n",
       "    </tr>\n",
       "  </tbody>\n",
       "</table>\n",
       "</div>"
      ],
      "text/plain": [
       "   FilmID             FilmName          MainActor\n",
       "0       1             Iron Man  Robert Downey Jr.\n",
       "1       2  The Incredible Hulk      Edward Norton\n",
       "2       3           Iron Man 2  Robert Downey Jr.\n",
       "3       4                 Thor    Chris Hemsworth"
      ]
     },
     "execution_count": 10,
     "metadata": {},
     "output_type": "execute_result"
    }
   ],
   "source": [
    "# Import library\n",
    "import pandas as pd\n",
    "from IPython.display import display\n",
    "\n",
    "# Create mutiple lists\n",
    "Film_ID = [1, 2, 3, 4]\n",
    "Film_name = [\"Iron Man\", \"The Incredible Hulk\", \"Iron Man 2\",\"Thor\"]\n",
    "Main_actor = [\"Robert Downey Jr.\", \"Edward Norton\", \"Robert Downey Jr.\", \"Chris Hemsworth\"]\n",
    "\n",
    "# Converting mutiple lists into pandas Dataframe.\n",
    "df_b = pd.DataFrame(list(zip(Film_ID, Film_name, Main_actor)),\n",
    "                  columns=[\"FilmID\", \"FilmName\",\"MainActor\"])\n",
    "\n",
    "display(df_b)"
   ]
  },
  {
   "cell_type": "markdown",
   "metadata": {},
   "source": [
    "### Creating DataFrame from dictionary_of_lists."
   ]
  },
  {
   "cell_type": "code",
   "execution_count": 11,
   "metadata": {},
   "outputs": [
    {
     "data": {
      "text/html": [
       "<div>\n",
       "<style scoped>\n",
       "    .dataframe tbody tr th:only-of-type {\n",
       "        vertical-align: middle;\n",
       "    }\n",
       "\n",
       "    .dataframe tbody tr th {\n",
       "        vertical-align: top;\n",
       "    }\n",
       "\n",
       "    .dataframe thead th {\n",
       "        text-align: right;\n",
       "    }\n",
       "</style>\n",
       "<table border=\"1\" class=\"dataframe\">\n",
       "  <thead>\n",
       "    <tr style=\"text-align: right;\">\n",
       "      <th></th>\n",
       "      <th>FilmID</th>\n",
       "      <th>FilmName</th>\n",
       "      <th>MainActor</th>\n",
       "    </tr>\n",
       "  </thead>\n",
       "  <tbody>\n",
       "    <tr>\n",
       "      <th>0</th>\n",
       "      <td>1</td>\n",
       "      <td>Iron Man</td>\n",
       "      <td>Robert Downey Jr.</td>\n",
       "    </tr>\n",
       "    <tr>\n",
       "      <th>1</th>\n",
       "      <td>2</td>\n",
       "      <td>The Incredible Hulk</td>\n",
       "      <td>Edward Norton</td>\n",
       "    </tr>\n",
       "    <tr>\n",
       "      <th>2</th>\n",
       "      <td>3</td>\n",
       "      <td>Iron Man 2</td>\n",
       "      <td>Robert Downey Jr.</td>\n",
       "    </tr>\n",
       "    <tr>\n",
       "      <th>3</th>\n",
       "      <td>4</td>\n",
       "      <td>Thor</td>\n",
       "      <td>Chris Hemsworth</td>\n",
       "    </tr>\n",
       "  </tbody>\n",
       "</table>\n",
       "</div>"
      ],
      "text/plain": [
       "   FilmID             FilmName          MainActor\n",
       "0       1             Iron Man  Robert Downey Jr.\n",
       "1       2  The Incredible Hulk      Edward Norton\n",
       "2       3           Iron Man 2  Robert Downey Jr.\n",
       "3       4                 Thor    Chris Hemsworth"
      ]
     },
     "metadata": {},
     "output_type": "display_data"
    }
   ],
   "source": [
    "# Import library\n",
    "import pandas as pd\n",
    "from IPython.display import display\n",
    "\n",
    "# Create a dictionary of list\n",
    "dictionary_of_lists = {\n",
    "    \"FilmID\": [1, 2, 3, 4],\n",
    "    \"FilmName\": [\"Iron Man\", \"The Incredible Hulk\", \"Iron Man 2\",\"Thor\"], \n",
    "    \"MainActor\": [\"Robert Downey Jr.\", \"Edward Norton\", \"Robert Downey Jr.\", \"Chris Hemsworth\"]}\n",
    "# Create the DataFrame\n",
    "df_c = pd.DataFrame(dictionary_of_lists)\n",
    "display(df_c)"
   ]
  },
  {
   "cell_type": "markdown",
   "metadata": {},
   "source": [
    "### Create Dataframe with setting index"
   ]
  },
  {
   "cell_type": "code",
   "execution_count": 16,
   "metadata": {},
   "outputs": [
    {
     "data": {
      "text/html": [
       "<div>\n",
       "<style scoped>\n",
       "    .dataframe tbody tr th:only-of-type {\n",
       "        vertical-align: middle;\n",
       "    }\n",
       "\n",
       "    .dataframe tbody tr th {\n",
       "        vertical-align: top;\n",
       "    }\n",
       "\n",
       "    .dataframe thead th {\n",
       "        text-align: right;\n",
       "    }\n",
       "</style>\n",
       "<table border=\"1\" class=\"dataframe\">\n",
       "  <thead>\n",
       "    <tr style=\"text-align: right;\">\n",
       "      <th></th>\n",
       "      <th>FilmID</th>\n",
       "      <th>FilmName</th>\n",
       "      <th>ActorName</th>\n",
       "    </tr>\n",
       "  </thead>\n",
       "  <tbody>\n",
       "    <tr>\n",
       "      <th>a</th>\n",
       "      <td>1</td>\n",
       "      <td>Iron Man</td>\n",
       "      <td>Robert Downey Jr.</td>\n",
       "    </tr>\n",
       "    <tr>\n",
       "      <th>b</th>\n",
       "      <td>2</td>\n",
       "      <td>The Incredible Hulk</td>\n",
       "      <td>Mark Ruffalo</td>\n",
       "    </tr>\n",
       "    <tr>\n",
       "      <th>c</th>\n",
       "      <td>3</td>\n",
       "      <td>Iron Man 2</td>\n",
       "      <td>Robert Downey Jr.</td>\n",
       "    </tr>\n",
       "    <tr>\n",
       "      <th>d</th>\n",
       "      <td>4</td>\n",
       "      <td>Thor</td>\n",
       "      <td>Chris Hemsworth</td>\n",
       "    </tr>\n",
       "  </tbody>\n",
       "</table>\n",
       "</div>"
      ],
      "text/plain": [
       "  FilmID             FilmName          ActorName\n",
       "a      1             Iron Man  Robert Downey Jr.\n",
       "b      2  The Incredible Hulk       Mark Ruffalo\n",
       "c      3           Iron Man 2  Robert Downey Jr.\n",
       "d      4                 Thor    Chris Hemsworth"
      ]
     },
     "metadata": {},
     "output_type": "display_data"
    }
   ],
   "source": [
    "import pandas as pd\n",
    "from IPython.display import display\n",
    "\n",
    "# Create a movie rating Dataframe with setting index\n",
    "df_d = pd.DataFrame(columns=[\"FilmID\", \"FilmName\",\"ActorName\"], index=['a', 'b', 'c','d'])\n",
    "df_d.loc['a'] = [1, \"Iron Man\",\"Robert Downey Jr.\"] #Rober\"s name should be counted as three pieces\n",
    "df_d.loc['b'] = [2, \"The Incredible Hulk\", \"Mark Ruffalo\"]\n",
    "df_d.loc['c'] = [3, \"Iron Man 2\", \"Robert Downey Jr.\"]\n",
    "df_d.loc['d'] = [4, \"Thor\", \"Chris Hemsworth\"]\n",
    "\n",
    "display(df_d)"
   ]
  }
 ],
 "metadata": {
  "kernelspec": {
   "display_name": "Python 3.9.13 64-bit (windows store)",
   "language": "python",
   "name": "python3"
  },
  "language_info": {
   "codemirror_mode": {
    "name": "ipython",
    "version": 3
   },
   "file_extension": ".py",
   "mimetype": "text/x-python",
   "name": "python",
   "nbconvert_exporter": "python",
   "pygments_lexer": "ipython3",
   "version": "3.9.13"
  },
  "orig_nbformat": 4,
  "vscode": {
   "interpreter": {
    "hash": "6a19634eb33c5479826ec490c10857293e2fcbc0f1317d2520de4bd5a8793109"
   }
  }
 },
 "nbformat": 4,
 "nbformat_minor": 2
}
